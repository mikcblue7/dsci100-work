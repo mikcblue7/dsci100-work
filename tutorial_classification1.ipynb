{
 "cells": [
  {
   "cell_type": "markdown",
   "metadata": {
    "deletable": false,
    "editable": false,
    "nbgrader": {
     "cell_type": "markdown",
     "checksum": "0510193fd5be7c4179a8d29f3200edcf",
     "grade": false,
     "grade_id": "cell-f02ea959d4ec286a",
     "locked": true,
     "schema_version": 3,
     "solution": false,
     "task": false
    }
   },
   "source": [
    "# Tutorial 6: Classification\n",
    "\n",
    "### Lecture and Tutorial Learning Goals:\n",
    "\n",
    "After completing this week's lecture and tutorial work, you will be able to:\n",
    "\n",
    "* Recognize situations where a simple classifier would be appropriate for making predictions.\n",
    "* Explain the k-nearest neighbour classification algorithm.\n",
    "* Interpret the output of a classifier.\n",
    "* Compute, by hand, the distance between points when there are two explanatory variables/predictors.\n",
    "* Describe what a training data set is and how it is used in classification.\n",
    "* In a dataset with two explanatory variables/predictors, perform k-nearest neighbour classification in R using `tidymodels` to predict the class of a single new observation."
   ]
  },
  {
   "cell_type": "code",
   "execution_count": 1,
   "metadata": {
    "deletable": false,
    "editable": false,
    "nbgrader": {
     "cell_type": "code",
     "checksum": "77709206343cb1a64f62cfc715abcfcf",
     "grade": false,
     "grade_id": "cell-77dbb6c4a3f6c87c",
     "locked": true,
     "schema_version": 3,
     "solution": false,
     "task": false
    }
   },
   "outputs": [
    {
     "name": "stderr",
     "output_type": "stream",
     "text": [
      "── \u001b[1mAttaching packages\u001b[22m ─────────────────────────────────────── tidyverse 1.3.1 ──\n",
      "\n",
      "\u001b[32m✔\u001b[39m \u001b[34mggplot2\u001b[39m 3.3.6     \u001b[32m✔\u001b[39m \u001b[34mpurrr  \u001b[39m 0.3.4\n",
      "\u001b[32m✔\u001b[39m \u001b[34mtibble \u001b[39m 3.1.7     \u001b[32m✔\u001b[39m \u001b[34mdplyr  \u001b[39m 1.0.9\n",
      "\u001b[32m✔\u001b[39m \u001b[34mtidyr  \u001b[39m 1.2.0     \u001b[32m✔\u001b[39m \u001b[34mstringr\u001b[39m 1.4.0\n",
      "\u001b[32m✔\u001b[39m \u001b[34mreadr  \u001b[39m 2.1.2     \u001b[32m✔\u001b[39m \u001b[34mforcats\u001b[39m 0.5.1\n",
      "\n",
      "── \u001b[1mConflicts\u001b[22m ────────────────────────────────────────── tidyverse_conflicts() ──\n",
      "\u001b[31m✖\u001b[39m \u001b[34mdplyr\u001b[39m::\u001b[32mfilter()\u001b[39m masks \u001b[34mstats\u001b[39m::filter()\n",
      "\u001b[31m✖\u001b[39m \u001b[34mdplyr\u001b[39m::\u001b[32mlag()\u001b[39m    masks \u001b[34mstats\u001b[39m::lag()\n",
      "\n",
      "── \u001b[1mAttaching packages\u001b[22m ────────────────────────────────────── tidymodels 1.0.0 ──\n",
      "\n",
      "\u001b[32m✔\u001b[39m \u001b[34mbroom       \u001b[39m 1.0.0     \u001b[32m✔\u001b[39m \u001b[34mrsample     \u001b[39m 1.0.0\n",
      "\u001b[32m✔\u001b[39m \u001b[34mdials       \u001b[39m 1.0.0     \u001b[32m✔\u001b[39m \u001b[34mtune        \u001b[39m 1.0.0\n",
      "\u001b[32m✔\u001b[39m \u001b[34minfer       \u001b[39m 1.0.2     \u001b[32m✔\u001b[39m \u001b[34mworkflows   \u001b[39m 1.0.0\n",
      "\u001b[32m✔\u001b[39m \u001b[34mmodeldata   \u001b[39m 1.0.0     \u001b[32m✔\u001b[39m \u001b[34mworkflowsets\u001b[39m 1.0.0\n",
      "\u001b[32m✔\u001b[39m \u001b[34mparsnip     \u001b[39m 1.0.0     \u001b[32m✔\u001b[39m \u001b[34myardstick   \u001b[39m 1.0.0\n",
      "\u001b[32m✔\u001b[39m \u001b[34mrecipes     \u001b[39m 1.0.1     \n",
      "\n",
      "── \u001b[1mConflicts\u001b[22m ───────────────────────────────────────── tidymodels_conflicts() ──\n",
      "\u001b[31m✖\u001b[39m \u001b[34mscales\u001b[39m::\u001b[32mdiscard()\u001b[39m masks \u001b[34mpurrr\u001b[39m::discard()\n",
      "\u001b[31m✖\u001b[39m \u001b[34mdplyr\u001b[39m::\u001b[32mfilter()\u001b[39m   masks \u001b[34mstats\u001b[39m::filter()\n",
      "\u001b[31m✖\u001b[39m \u001b[34mrecipes\u001b[39m::\u001b[32mfixed()\u001b[39m  masks \u001b[34mstringr\u001b[39m::fixed()\n",
      "\u001b[31m✖\u001b[39m \u001b[34mdplyr\u001b[39m::\u001b[32mlag()\u001b[39m      masks \u001b[34mstats\u001b[39m::lag()\n",
      "\u001b[31m✖\u001b[39m \u001b[34myardstick\u001b[39m::\u001b[32mspec()\u001b[39m masks \u001b[34mreadr\u001b[39m::spec()\n",
      "\u001b[31m✖\u001b[39m \u001b[34mrecipes\u001b[39m::\u001b[32mstep()\u001b[39m   masks \u001b[34mstats\u001b[39m::step()\n",
      "\u001b[34m•\u001b[39m Search for functions across packages at \u001b[32mhttps://www.tidymodels.org/find/\u001b[39m\n",
      "\n",
      "\n",
      "Attaching package: ‘testthat’\n",
      "\n",
      "\n",
      "The following object is masked from ‘package:rsample’:\n",
      "\n",
      "    matches\n",
      "\n",
      "\n",
      "The following object is masked from ‘package:dplyr’:\n",
      "\n",
      "    matches\n",
      "\n",
      "\n",
      "The following object is masked from ‘package:purrr’:\n",
      "\n",
      "    is_null\n",
      "\n",
      "\n",
      "The following objects are masked from ‘package:readr’:\n",
      "\n",
      "    edition_get, local_edition\n",
      "\n",
      "\n",
      "The following object is masked from ‘package:tidyr’:\n",
      "\n",
      "    matches\n",
      "\n",
      "\n",
      "\n",
      "Attaching package: ‘rlang’\n",
      "\n",
      "\n",
      "The following objects are masked from ‘package:testthat’:\n",
      "\n",
      "    is_false, is_null, is_true\n",
      "\n",
      "\n",
      "The following objects are masked from ‘package:purrr’:\n",
      "\n",
      "    %@%, as_function, flatten, flatten_chr, flatten_dbl, flatten_int,\n",
      "    flatten_lgl, flatten_raw, invoke, splice\n",
      "\n",
      "\n"
     ]
    }
   ],
   "source": [
    "### Run this cell before continuing. \n",
    "library(tidyverse)\n",
    "library(repr)\n",
    "library(tidymodels)\n",
    "options(repr.matrix.max.rows = 6)\n",
    "source('tests.R')\n",
    "source(\"cleanup.R\")"
   ]
  },
  {
   "cell_type": "markdown",
   "metadata": {
    "deletable": false,
    "editable": false,
    "nbgrader": {
     "cell_type": "markdown",
     "checksum": "3f8b7fdd5d16bae2404ba8226ac9e7d2",
     "grade": false,
     "grade_id": "cell-0fb0bdb9af0312bf",
     "locked": true,
     "schema_version": 3,
     "solution": false
    }
   },
   "source": [
    "**Question 0.1** Multiple Choice: \n",
    "<br> {points: 1}\n",
    "\n",
    "Before applying k-nearest neighbour to a classification task, we need to scale the data. What is the purpose of this step?\n",
    "\n",
    "A. To help speed up the knn algorithm. \n",
    "\n",
    "B. To convert all data observations to numeric values. \n",
    "\n",
    "C. To ensure all data observations will be on a comparable scale and contribute equal shares to the calculation of the distance between points.\n",
    "\n",
    "D. None of the above. \n",
    "\n",
    "*Assign your answer to an object called `answer0.1`. Make sure the correct answer is an uppercase letter. Surround your answer with quotation marks (e.g. `\"F\"`).*\n",
    "\n",
    "*Note: we typically **standardize** (i.e., scale **and** center) the data before doing classification. For the K-nearest neighbour algorithm specifically, centering has no effect. But it doesn't hurt, and can help with other predictive data analyses, so we will do it below.*"
   ]
  },
  {
   "cell_type": "code",
   "execution_count": 2,
   "metadata": {
    "deletable": false,
    "nbgrader": {
     "cell_type": "code",
     "checksum": "be7ad738e68b30000a8fda6aae13a7a8",
     "grade": false,
     "grade_id": "cell-a501b73cef660bd5",
     "locked": false,
     "schema_version": 3,
     "solution": true
    }
   },
   "outputs": [],
   "source": [
    "answer0.1 <- \"C\""
   ]
  },
  {
   "cell_type": "code",
   "execution_count": 3,
   "metadata": {
    "deletable": false,
    "editable": false,
    "nbgrader": {
     "cell_type": "code",
     "checksum": "8c63046c5b4e0d327aaa74ee2ac094a6",
     "grade": true,
     "grade_id": "cell-2c64255ed0923c6b",
     "locked": true,
     "points": 1,
     "schema_version": 3,
     "solution": false
    }
   },
   "outputs": [
    {
     "name": "stdout",
     "output_type": "stream",
     "text": [
      "\u001b[32mTest passed\u001b[39m 🎉\n",
      "[1] \"Success!\"\n"
     ]
    }
   ],
   "source": [
    "test_0.1()"
   ]
  },
  {
   "cell_type": "markdown",
   "metadata": {
    "deletable": false,
    "editable": false,
    "nbgrader": {
     "cell_type": "markdown",
     "checksum": "80137547c2ee9e8f30d65a6efae9a51b",
     "grade": false,
     "grade_id": "cell-fc56755477cbb261",
     "locked": true,
     "schema_version": 3,
     "solution": false
    }
   },
   "source": [
    "## 1. Fruit Data Example \n",
    "\n",
    "In the agricultural industry, cleaning, sorting, grading, and packaging food products are all necessary tasks in the post-harvest process. Products are classified based on appearance, size and shape, attributes which helps determine the quality of the food. Sorting can be done by humans, but it is tedious and time consuming. Automatic sorting could help save time and money. Images of the food products are captured and analysed to determine visual characteristics. \n",
    "\n",
    "The [dataset](https://www.kaggle.com/mjamilmoughal/k-nearest-neighbor-classifier-to-predict-fruits/notebook) contains observations of fruit described with four features 1) mass (in g) 2) width (in cm) 3) height (in cm) and 4) color score (on a scale from 0 - 1)."
   ]
  },
  {
   "cell_type": "markdown",
   "metadata": {
    "deletable": false,
    "editable": false,
    "nbgrader": {
     "cell_type": "markdown",
     "checksum": "6aa11521f34d572f7d8a37a69c1a500b",
     "grade": false,
     "grade_id": "cell-e7663a214654c3e5",
     "locked": true,
     "schema_version": 3,
     "solution": false,
     "task": false
    }
   },
   "source": [
    "**Question 1.0** \n",
    "<br> {points: 1}\n",
    "\n",
    "Load the file, `fruit_data.csv`, into your notebook. \n",
    "\n",
    "`mutate()` the `fruit_name` column such that it is a *factor* using the `as_factor()` function.\n",
    "\n",
    "*Assign your data to an object called `fruit_data`.*"
   ]
  },
  {
   "cell_type": "code",
   "execution_count": 4,
   "metadata": {
    "deletable": false,
    "nbgrader": {
     "cell_type": "code",
     "checksum": "291a5acd86a975f08960c0b41a55dbb1",
     "grade": false,
     "grade_id": "cell-257bbc9d90d8b32a",
     "locked": false,
     "schema_version": 3,
     "solution": true
    }
   },
   "outputs": [
    {
     "name": "stderr",
     "output_type": "stream",
     "text": [
      "\u001b[1mRows: \u001b[22m\u001b[34m59\u001b[39m \u001b[1mColumns: \u001b[22m\u001b[34m7\u001b[39m\n",
      "\u001b[36m──\u001b[39m \u001b[1mColumn specification\u001b[22m \u001b[36m────────────────────────────────────────────────────────\u001b[39m\n",
      "\u001b[1mDelimiter:\u001b[22m \",\"\n",
      "\u001b[31mchr\u001b[39m (2): fruit_name, fruit_subtype\n",
      "\u001b[32mdbl\u001b[39m (5): fruit_label, mass, width, height, color_score\n",
      "\n",
      "\u001b[36mℹ\u001b[39m Use `spec()` to retrieve the full column specification for this data.\n",
      "\u001b[36mℹ\u001b[39m Specify the column types or set `show_col_types = FALSE` to quiet this message.\n"
     ]
    }
   ],
   "source": [
    "fruit_data <- read_csv(\"data/fruit_data.csv\") |> \n",
    "        mutate(fruit_name = as_factor(fruit_name))"
   ]
  },
  {
   "cell_type": "code",
   "execution_count": 5,
   "metadata": {
    "deletable": false,
    "editable": false,
    "nbgrader": {
     "cell_type": "code",
     "checksum": "ca55d5b0f031911d29c6089fd670673b",
     "grade": true,
     "grade_id": "cell-71318577d0ae22b9",
     "locked": true,
     "points": 1,
     "schema_version": 3,
     "solution": false
    }
   },
   "outputs": [
    {
     "name": "stdout",
     "output_type": "stream",
     "text": [
      "\u001b[32mTest passed\u001b[39m 🎊\n",
      "\u001b[32mTest passed\u001b[39m 🌈\n",
      "\u001b[32mTest passed\u001b[39m 🎊\n",
      "\u001b[32mTest passed\u001b[39m 🌈\n",
      "\u001b[32mTest passed\u001b[39m 🎊\n",
      "[1] \"Success!\"\n"
     ]
    }
   ],
   "source": [
    "test_1.0()"
   ]
  },
  {
   "cell_type": "markdown",
   "metadata": {
    "deletable": false,
    "editable": false,
    "nbgrader": {
     "cell_type": "markdown",
     "checksum": "2a6599856974a1a6f8e21ee0061f9058",
     "grade": false,
     "grade_id": "cell-5c01c2cd0cc285f8",
     "locked": true,
     "schema_version": 3,
     "solution": false
    }
   },
   "source": [
    "Let's take a look at the first few observations in the fruit dataset. Run the cell below."
   ]
  },
  {
   "cell_type": "code",
   "execution_count": 6,
   "metadata": {
    "deletable": false,
    "editable": false,
    "nbgrader": {
     "cell_type": "code",
     "checksum": "85ca3949e13a73fc12b7f105f7736b23",
     "grade": false,
     "grade_id": "cell-b6cb1a6b0890e9e9",
     "locked": true,
     "schema_version": 3,
     "solution": false
    }
   },
   "outputs": [
    {
     "data": {
      "text/html": [
       "<table class=\"dataframe\">\n",
       "<caption>A tibble: 59 × 7</caption>\n",
       "<thead>\n",
       "\t<tr><th scope=col>fruit_label</th><th scope=col>fruit_name</th><th scope=col>fruit_subtype</th><th scope=col>mass</th><th scope=col>width</th><th scope=col>height</th><th scope=col>color_score</th></tr>\n",
       "\t<tr><th scope=col>&lt;dbl&gt;</th><th scope=col>&lt;fct&gt;</th><th scope=col>&lt;chr&gt;</th><th scope=col>&lt;dbl&gt;</th><th scope=col>&lt;dbl&gt;</th><th scope=col>&lt;dbl&gt;</th><th scope=col>&lt;dbl&gt;</th></tr>\n",
       "</thead>\n",
       "<tbody>\n",
       "\t<tr><td>1</td><td>apple</td><td>granny_smith</td><td>192</td><td>8.4</td><td>7.3</td><td>0.55</td></tr>\n",
       "\t<tr><td>1</td><td>apple</td><td>granny_smith</td><td>180</td><td>8.0</td><td>6.8</td><td>0.59</td></tr>\n",
       "\t<tr><td>1</td><td>apple</td><td>granny_smith</td><td>176</td><td>7.4</td><td>7.2</td><td>0.60</td></tr>\n",
       "\t<tr><td>⋮</td><td>⋮</td><td>⋮</td><td>⋮</td><td>⋮</td><td>⋮</td><td>⋮</td></tr>\n",
       "\t<tr><td>4</td><td>lemon</td><td>unknown</td><td>116</td><td>5.9</td><td>8.1</td><td>0.73</td></tr>\n",
       "\t<tr><td>4</td><td>lemon</td><td>unknown</td><td>152</td><td>6.5</td><td>8.5</td><td>0.72</td></tr>\n",
       "\t<tr><td>4</td><td>lemon</td><td>unknown</td><td>118</td><td>6.1</td><td>8.1</td><td>0.70</td></tr>\n",
       "</tbody>\n",
       "</table>\n"
      ],
      "text/latex": [
       "A tibble: 59 × 7\n",
       "\\begin{tabular}{lllllll}\n",
       " fruit\\_label & fruit\\_name & fruit\\_subtype & mass & width & height & color\\_score\\\\\n",
       " <dbl> & <fct> & <chr> & <dbl> & <dbl> & <dbl> & <dbl>\\\\\n",
       "\\hline\n",
       "\t 1 & apple & granny\\_smith & 192 & 8.4 & 7.3 & 0.55\\\\\n",
       "\t 1 & apple & granny\\_smith & 180 & 8.0 & 6.8 & 0.59\\\\\n",
       "\t 1 & apple & granny\\_smith & 176 & 7.4 & 7.2 & 0.60\\\\\n",
       "\t ⋮ & ⋮ & ⋮ & ⋮ & ⋮ & ⋮ & ⋮\\\\\n",
       "\t 4 & lemon & unknown & 116 & 5.9 & 8.1 & 0.73\\\\\n",
       "\t 4 & lemon & unknown & 152 & 6.5 & 8.5 & 0.72\\\\\n",
       "\t 4 & lemon & unknown & 118 & 6.1 & 8.1 & 0.70\\\\\n",
       "\\end{tabular}\n"
      ],
      "text/markdown": [
       "\n",
       "A tibble: 59 × 7\n",
       "\n",
       "| fruit_label &lt;dbl&gt; | fruit_name &lt;fct&gt; | fruit_subtype &lt;chr&gt; | mass &lt;dbl&gt; | width &lt;dbl&gt; | height &lt;dbl&gt; | color_score &lt;dbl&gt; |\n",
       "|---|---|---|---|---|---|---|\n",
       "| 1 | apple | granny_smith | 192 | 8.4 | 7.3 | 0.55 |\n",
       "| 1 | apple | granny_smith | 180 | 8.0 | 6.8 | 0.59 |\n",
       "| 1 | apple | granny_smith | 176 | 7.4 | 7.2 | 0.60 |\n",
       "| ⋮ | ⋮ | ⋮ | ⋮ | ⋮ | ⋮ | ⋮ |\n",
       "| 4 | lemon | unknown | 116 | 5.9 | 8.1 | 0.73 |\n",
       "| 4 | lemon | unknown | 152 | 6.5 | 8.5 | 0.72 |\n",
       "| 4 | lemon | unknown | 118 | 6.1 | 8.1 | 0.70 |\n",
       "\n"
      ],
      "text/plain": [
       "   fruit_label fruit_name fruit_subtype mass width height color_score\n",
       "1  1           apple      granny_smith  192  8.4   7.3    0.55       \n",
       "2  1           apple      granny_smith  180  8.0   6.8    0.59       \n",
       "3  1           apple      granny_smith  176  7.4   7.2    0.60       \n",
       "⋮  ⋮           ⋮          ⋮             ⋮    ⋮     ⋮      ⋮          \n",
       "57 4           lemon      unknown       116  5.9   8.1    0.73       \n",
       "58 4           lemon      unknown       152  6.5   8.5    0.72       \n",
       "59 4           lemon      unknown       118  6.1   8.1    0.70       "
      ]
     },
     "metadata": {},
     "output_type": "display_data"
    }
   ],
   "source": [
    "# Run this cell. \n",
    "fruit_data"
   ]
  },
  {
   "cell_type": "markdown",
   "metadata": {
    "deletable": false,
    "editable": false,
    "nbgrader": {
     "cell_type": "markdown",
     "checksum": "6af246dc240562af81533b7e4d0e7732",
     "grade": false,
     "grade_id": "cell-0f7b03f7a3ac6dcd",
     "locked": true,
     "schema_version": 3,
     "solution": false
    }
   },
   "source": [
    "**Question 1.0.1** Multiple Choice:\n",
    "<br> {points: 1}\n",
    "\n",
    "**Which of the columns should we treat as categorical variables?**\n",
    "\n",
    "A. Fruit label, width, fruit subtype\n",
    "\n",
    "B. Fruit name, color score, height\n",
    "\n",
    "C. Fruit label, fruit subtype, fruit name\n",
    "\n",
    "D. Color score, mass, width \n",
    "\n",
    "*Assign your answer to an object called `answer1.0.1`. Make sure the correct answer is an uppercase letter. Remember to surround your answer with quotation marks (e.g. `\"E\"`).*"
   ]
  },
  {
   "cell_type": "code",
   "execution_count": 7,
   "metadata": {
    "deletable": false,
    "nbgrader": {
     "cell_type": "code",
     "checksum": "dcbdabfd8d48d26db8242f4224892c3e",
     "grade": false,
     "grade_id": "cell-ebcca2f8fb4020ba",
     "locked": false,
     "schema_version": 3,
     "solution": true
    }
   },
   "outputs": [],
   "source": [
    "answer1.0.1 <- \"C\""
   ]
  },
  {
   "cell_type": "code",
   "execution_count": 8,
   "metadata": {
    "deletable": false,
    "editable": false,
    "nbgrader": {
     "cell_type": "code",
     "checksum": "6c8a3e8950aba1d7830492458f3a2306",
     "grade": true,
     "grade_id": "cell-6e85a1cad95b4dd0",
     "locked": true,
     "points": 1,
     "schema_version": 3,
     "solution": false
    }
   },
   "outputs": [
    {
     "name": "stdout",
     "output_type": "stream",
     "text": [
      "\u001b[32mTest passed\u001b[39m 😀\n",
      "[1] \"Success!\"\n"
     ]
    }
   ],
   "source": [
    "test_1.0.1()"
   ]
  },
  {
   "cell_type": "markdown",
   "metadata": {
    "deletable": false,
    "editable": false,
    "nbgrader": {
     "cell_type": "markdown",
     "checksum": "2c4017ec3409dc1ca0c6970cca47c5a1",
     "grade": false,
     "grade_id": "cell-e5f28e3e335b44a8",
     "locked": true,
     "schema_version": 3,
     "solution": false
    }
   },
   "source": [
    "Run the cell below, and find the nearest neighbour based on mass and width to the first observation just by looking at the scatterplot (the first observation has been circled for you)."
   ]
  },
  {
   "cell_type": "code",
   "execution_count": 9,
   "metadata": {
    "deletable": false,
    "editable": false,
    "nbgrader": {
     "cell_type": "code",
     "checksum": "66ace0b3fe500c244b36c6abc581e9a8",
     "grade": false,
     "grade_id": "cell-6ec139e3cbbfbda5",
     "locked": true,
     "schema_version": 3,
     "solution": false
    }
   },
   "outputs": [
    {
     "data": {
      "image/png": "[encoded data removed]",
      "text/plain": [
       "plot without title"
      ]
     },
     "metadata": {
      "image/png": {
       "height": 420,
       "width": 600
      }
     },
     "output_type": "display_data"
    }
   ],
   "source": [
    "# Run this cell. \n",
    "options(repr.plot.width=10, repr.plot.height=7)\n",
    "point1 <- c(192, 8.4)\n",
    "point2 <- c(180, 8)\n",
    "point44 <- c(194, 7.2)\n",
    "\n",
    "fruit_data |>  \n",
    "    ggplot(aes(x=mass, \n",
    "               y= width, \n",
    "               colour = fruit_name)) +\n",
    "        labs(x = \"Mass (grams)\",\n",
    "             y = \"Width (cm)\",\n",
    "            colour = 'Name of the Fruit') +\n",
    "        geom_point(size = 2.5) +\n",
    "        annotate(\"path\", \n",
    "                 x=point1[1] + 5*cos(seq(0,2*pi,length.out=100)),\n",
    "                 y=point1[2] + 0.1*sin(seq(0,2*pi,length.out=100))) +\n",
    "        annotate(\"text\", x = 183, y =  8.5, label = \"1\", size = 8) + \n",
    "        theme(text = element_text(size = 20))"
   ]
  },
  {
   "cell_type": "markdown",
   "metadata": {
    "deletable": false,
    "editable": false,
    "nbgrader": {
     "cell_type": "markdown",
     "checksum": "ca851a562218cbe1b48b0e92abb12602",
     "grade": false,
     "grade_id": "cell-f547ed9293fd1e24",
     "locked": true,
     "schema_version": 3,
     "solution": false
    }
   },
   "source": [
    "**Question 1.1** Multiple Choice: \n",
    "<br> {points: 1}\n",
    "\n",
    "Based on the graph generated, what is the `fruit_name` of the closest data point to the one circled?\n",
    "\n",
    "A. apple\n",
    "\n",
    "B. lemon\n",
    "\n",
    "C. mandarin \n",
    "\n",
    "D. orange\n",
    "\n",
    "*Assign your answer to an object called `answer1.1`. Make sure the correct answer is an uppercase letter. Surround your answer with quotation marks (e.g. `\"F\"`).*"
   ]
  },
  {
   "cell_type": "code",
   "execution_count": 10,
   "metadata": {
    "deletable": false,
    "nbgrader": {
     "cell_type": "code",
     "checksum": "85e6ee656db2524950d1c559895201d1",
     "grade": false,
     "grade_id": "cell-d400d1783f3c27d1",
     "locked": false,
     "schema_version": 3,
     "solution": true
    }
   },
   "outputs": [],
   "source": [
    "answer1.1 <- \"A\""
   ]
  },
  {
   "cell_type": "code",
   "execution_count": 11,
   "metadata": {
    "deletable": false,
    "editable": false,
    "nbgrader": {
     "cell_type": "code",
     "checksum": "0596dfa1ced4487b2206ee4cc9540206",
     "grade": true,
     "grade_id": "cell-77e2fb5f0d68eadd",
     "locked": true,
     "points": 1,
     "schema_version": 3,
     "solution": false
    }
   },
   "outputs": [
    {
     "name": "stdout",
     "output_type": "stream",
     "text": [
      "\u001b[32mTest passed\u001b[39m 🥇\n",
      "[1] \"Success!\"\n"
     ]
    }
   ],
   "source": [
    "test_1.1()"
   ]
  },
  {
   "cell_type": "markdown",
   "metadata": {
    "deletable": false,
    "editable": false,
    "nbgrader": {
     "cell_type": "markdown",
     "checksum": "3b1f1485096a8ed39b1206366a94cf78",
     "grade": false,
     "grade_id": "cell-b75477de51f54fd0",
     "locked": true,
     "schema_version": 3,
     "solution": false
    }
   },
   "source": [
    "**Question 1.2**\n",
    "<br> {points: 1}\n",
    "\n",
    "Using mass and width, calculate the distance between the first observation and the second observation. \n",
    "\n",
    "We provide a scaffolding to get you started. \n",
    "\n",
    "*Assign your answer to an object called `fruit_dist_2`.*"
   ]
  },
  {
   "cell_type": "code",
   "execution_count": 12,
   "metadata": {
    "deletable": false,
    "nbgrader": {
     "cell_type": "code",
     "checksum": "0b9b7a924af0be82b6030b3b845985db",
     "grade": false,
     "grade_id": "cell-9f9074c18131c083",
     "locked": false,
     "schema_version": 3,
     "solution": true
    }
   },
   "outputs": [
    {
     "data": {
      "text/plain": [
       "         1\n",
       "2 12.00666"
      ]
     },
     "metadata": {},
     "output_type": "display_data"
    }
   ],
   "source": [
    "# ... <- fruit_data |>\n",
    "#    slice(1, 2) |> # We use slice to get the first two rows of the fruit dataset\n",
    "#    select(mass, ...) |>\n",
    "#    dist()\n",
    "\n",
    "fruit_dist_2 <- fruit_data |>\n",
    "        slice(1, 2) |>\n",
    "        select(mass, width) |>\n",
    "        dist()\n",
    "fruit_dist_2"
   ]
  },
  {
   "cell_type": "code",
   "execution_count": 13,
   "metadata": {
    "deletable": false,
    "editable": false,
    "nbgrader": {
     "cell_type": "code",
     "checksum": "5c9b9fd4dad4fd9c225708a572aedee0",
     "grade": true,
     "grade_id": "cell-482c6171cb7cc18e",
     "locked": true,
     "points": 1,
     "schema_version": 3,
     "solution": false
    }
   },
   "outputs": [
    {
     "name": "stdout",
     "output_type": "stream",
     "text": [
      "\u001b[32mTest passed\u001b[39m 😀\n",
      "\u001b[32mTest passed\u001b[39m 🎉\n",
      "[1] \"Success!\"\n"
     ]
    }
   ],
   "source": [
    "test_1.2()"
   ]
  },
  {
   "cell_type": "markdown",
   "metadata": {
    "deletable": false,
    "editable": false,
    "nbgrader": {
     "cell_type": "markdown",
     "checksum": "bf5f5b95a2fb4b37098012c295a256e9",
     "grade": false,
     "grade_id": "cell-9545195608452133",
     "locked": true,
     "schema_version": 3,
     "solution": false
    }
   },
   "source": [
    "**Question 1.3**\n",
    "<br> {points: 1}\n",
    "\n",
    "Calculate the distance between the first and the the 44th observation in the fruit dataset using the mass and width variables. \n",
    "\n",
    "*Assign your answer to an object called `fruit_dist_44`.*"
   ]
  },
  {
   "cell_type": "code",
   "execution_count": 14,
   "metadata": {
    "deletable": false,
    "nbgrader": {
     "cell_type": "code",
     "checksum": "e2b80dfdcb2e66390853f23b9302caad",
     "grade": false,
     "grade_id": "cell-033f74d28e3cc01f",
     "locked": false,
     "schema_version": 3,
     "solution": true
    }
   },
   "outputs": [
    {
     "data": {
      "text/plain": [
       "         1\n",
       "2 2.332381"
      ]
     },
     "metadata": {},
     "output_type": "display_data"
    }
   ],
   "source": [
    "fruit_dist_44 <- fruit_data |>\n",
    "    slice(1, 44) |>\n",
    "    select(mass, width) |>\n",
    "    dist()\n",
    "fruit_dist_44"
   ]
  },
  {
   "cell_type": "code",
   "execution_count": 15,
   "metadata": {
    "deletable": false,
    "editable": false,
    "nbgrader": {
     "cell_type": "code",
     "checksum": "f8004434dd81c3d7111e95e7d0214e9d",
     "grade": true,
     "grade_id": "cell-3c7393c1ea156920",
     "locked": true,
     "points": 1,
     "schema_version": 3,
     "solution": false
    }
   },
   "outputs": [
    {
     "name": "stdout",
     "output_type": "stream",
     "text": [
      "\u001b[32mTest passed\u001b[39m 😸\n",
      "\u001b[32mTest passed\u001b[39m 😀\n",
      "[1] \"Success!\"\n"
     ]
    }
   ],
   "source": [
    "test_1.3()"
   ]
  },
  {
   "cell_type": "markdown",
   "metadata": {
    "deletable": false,
    "editable": false,
    "nbgrader": {
     "cell_type": "markdown",
     "checksum": "a4300e098edde9b3fd21ecbf665d79e1",
     "grade": false,
     "grade_id": "cell-ac12c3dcbae32920",
     "locked": true,
     "schema_version": 3,
     "solution": false,
     "task": false
    }
   },
   "source": [
    "Let's circle these three observations on the plot from earlier.\n"
   ]
  },
  {
   "cell_type": "code",
   "execution_count": 16,
   "metadata": {
    "deletable": false,
    "editable": false,
    "nbgrader": {
     "cell_type": "code",
     "checksum": "0aafdcf104763abfbfff369fe69088a7",
     "grade": false,
     "grade_id": "cell-f11023e6386b3027",
     "locked": true,
     "schema_version": 3,
     "solution": false
    }
   },
   "outputs": [
    {
     "data": {
      "image/png": "[encoded data removed]",
      "text/plain": [
       "plot without title"
      ]
     },
     "metadata": {
      "image/png": {
       "height": 420,
       "width": 600
      }
     },
     "output_type": "display_data"
    }
   ],
   "source": [
    "options(repr.plot.width = 10, repr.plot.height = 7)\n",
    "\n",
    "# Run this cell. \n",
    "point1 <- c(192, 8.4)\n",
    "point2 <- c(180, 8)\n",
    "point44 <- c(194, 7.2)\n",
    "\n",
    "fruit_data |>\n",
    "    ggplot(aes(x = mass, \n",
    "               y = width, \n",
    "               colour = fruit_name)) +\n",
    "        labs(x = \"Mass (grams)\",\n",
    "             y = \"Width (cm)\",\n",
    "            colour = 'Name of the Fruit') +\n",
    "        geom_point(size = 2.5) +\n",
    "        theme(text = element_text(size = 20)) +\n",
    "        annotate(\"path\", \n",
    "                 x=point1[1] + 5*cos(seq(0,2*pi,length.out=100)),\n",
    "                 y=point1[2] + 0.1*sin(seq(0,2*pi,length.out=100))) +\n",
    "        annotate(\"text\", x = 183, y =  8.5, label = \"1\", size = 8) +\n",
    "        annotate(\"path\",\n",
    "                 x=point2[1] + 5*cos(seq(0,2*pi,length.out=100)),\n",
    "                 y=point2[2] + 0.1*sin(seq(0,2*pi,length.out=100))) +\n",
    "        annotate(\"text\", x = 169, y =  8.1, label = \"2\", size = 8) +\n",
    "        annotate(\"path\",\n",
    "                 x=point44[1] + 5*cos(seq(0,2*pi,length.out=100)),\n",
    "                 y=point44[2]+0.1*sin(seq(0,2*pi,length.out=100))) +\n",
    "        annotate(\"text\", x = 204, y =  7.1, label = \"44\", size = 8) "
   ]
  },
  {
   "cell_type": "markdown",
   "metadata": {
    "deletable": false,
    "editable": false,
    "nbgrader": {
     "cell_type": "markdown",
     "checksum": "344a34e903ff5696d25b5e7b93373a98",
     "grade": false,
     "grade_id": "cell-e6f7e928ee6f578a",
     "locked": true,
     "schema_version": 3,
     "solution": false,
     "task": false
    }
   },
   "source": [
    "What do you notice about your answers from **Question 1.2 & 1.3** that you just calculated? Is it what you would expect given the scatter plot above? Why or why not? Discuss with your neighbour. \n",
    "\n",
    "*Hint: Look at where the observations are on the scatterplot in the cell above this question, and what might happen if we changed grams into kilograms to measure the mass?*\n"
   ]
  },
  {
   "cell_type": "markdown",
   "metadata": {
    "deletable": false,
    "editable": false,
    "nbgrader": {
     "cell_type": "markdown",
     "checksum": "4d1373cf7c1170b542963a127342055d",
     "grade": false,
     "grade_id": "cell-8a6b2cef00422867",
     "locked": true,
     "schema_version": 3,
     "solution": false,
     "task": false
    }
   },
   "source": [
    "**Question 1.4** Multiple Choice:\n",
    "<br> {points: 1}\n",
    "\n",
    "The distance between the first and second observation is 12.01 and the distance between the first and 44th observation is 2.33. By the formula, observation 1 and 44 are closer, however, if we look at the scatterplot the distance of the first observation to the second observation appears closer than to the 44th observation. \n",
    "\n",
    "Which of the following statements is correct?\n",
    "\n",
    "A. A difference of 12 g in mass between observation 1 and 2 is large compared to a difference of 1.2 cm in width between observation 1 and 44. Consequently, mass will drive the classification results, and width will have less of an effect. \n",
    "\n",
    "B. If we measured mass in kilograms, then we’d get different nearest neighbours.\n",
    "\n",
    "C. We should standardize the data so that all variables will be on a comparable scale. \n",
    "\n",
    "D. All of the above. \n",
    "\n",
    "*Assign your answer to an object called `answer1.4`. Make sure the correct answer is an uppercase letter. Surround your answer with quotation marks (e.g. `\"F\"`).*"
   ]
  },
  {
   "cell_type": "code",
   "execution_count": 17,
   "metadata": {
    "deletable": false,
    "nbgrader": {
     "cell_type": "code",
     "checksum": "966f805e5da620038d6e02051e4f7b7c",
     "grade": false,
     "grade_id": "cell-f3e2ef9e64e39b31",
     "locked": false,
     "schema_version": 3,
     "solution": true,
     "task": false
    }
   },
   "outputs": [],
   "source": [
    "answer1.4 <- \"D\"\n"
   ]
  },
  {
   "cell_type": "code",
   "execution_count": 18,
   "metadata": {
    "deletable": false,
    "editable": false,
    "nbgrader": {
     "cell_type": "code",
     "checksum": "bb7525296c667a4bb96b4212e64b16a0",
     "grade": true,
     "grade_id": "cell-3fc3cbcfc9af77d2",
     "locked": true,
     "points": 1,
     "schema_version": 3,
     "solution": false,
     "task": false
    }
   },
   "outputs": [
    {
     "name": "stdout",
     "output_type": "stream",
     "text": [
      "\u001b[32mTest passed\u001b[39m 🎉\n",
      "[1] \"Success!\"\n"
     ]
    }
   ],
   "source": [
    "test_1.4()"
   ]
  },
  {
   "cell_type": "markdown",
   "metadata": {
    "deletable": false,
    "editable": false,
    "nbgrader": {
     "cell_type": "markdown",
     "checksum": "cc7738f46daa83246b7f335cd2de82b0",
     "grade": false,
     "grade_id": "cell-28a929022410e3d9",
     "locked": true,
     "schema_version": 3,
     "solution": false
    }
   },
   "source": [
    "**Question 1.5**\n",
    "<br> {points: 1}\n",
    "\n",
    "Let's create a `tidymodels` recipe to *standardize* (i.e., center and scale) all of the variables in the fruit dataset. Centering will make sure that every variable has an average of 0, and scaling will make sure that every variable has standard deviation of 1. We will use the `step_scale` and `step_center` preprocessing steps in the recipe. Then `bake` the recipe so that we can examine the output.\n",
    "\n",
    "Specify your recipe with class variable `fruit_name` and predictors `mass`, `width`, `height`, and `color_score`. \n",
    "\n",
    "Name the recipe `fruit_data_recipe`, and name the preprocessed data `fruit_data_scaled`."
   ]
  },
  {
   "cell_type": "code",
   "execution_count": 19,
   "metadata": {
    "deletable": false,
    "nbgrader": {
     "cell_type": "code",
     "checksum": "1fbb306036e29e9c4f402e2e6ba36873",
     "grade": false,
     "grade_id": "cell-f5b23199250ffc04",
     "locked": false,
     "schema_version": 3,
     "solution": true
    }
   },
   "outputs": [
    {
     "data": {
      "text/html": [
       "<table class=\"dataframe\">\n",
       "<caption>A tibble: 59 × 5</caption>\n",
       "<thead>\n",
       "\t<tr><th scope=col>mass</th><th scope=col>width</th><th scope=col>height</th><th scope=col>color_score</th><th scope=col>fruit_name</th></tr>\n",
       "\t<tr><th scope=col>&lt;dbl&gt;</th><th scope=col>&lt;dbl&gt;</th><th scope=col>&lt;dbl&gt;</th><th scope=col>&lt;dbl&gt;</th><th scope=col>&lt;fct&gt;</th></tr>\n",
       "</thead>\n",
       "<tbody>\n",
       "\t<tr><td>0.5249358</td><td>1.5850841</td><td>-0.2889166</td><td>-2.769820</td><td>apple</td></tr>\n",
       "\t<tr><td>0.3068287</td><td>1.0954508</td><td>-0.6562889</td><td>-2.249376</td><td>apple</td></tr>\n",
       "\t<tr><td>0.2341263</td><td>0.3610008</td><td>-0.3623910</td><td>-2.119265</td><td>apple</td></tr>\n",
       "\t<tr><td>⋮</td><td>⋮</td><td>⋮</td><td>⋮</td><td>⋮</td></tr>\n",
       "\t<tr><td>-0.8564094</td><td>-1.4751241</td><td>0.2988792</td><td>-0.4278225</td><td>lemon</td></tr>\n",
       "\t<tr><td>-0.2020880</td><td>-0.7406741</td><td>0.5927771</td><td>-0.5579334</td><td>lemon</td></tr>\n",
       "\t<tr><td>-0.8200582</td><td>-1.2303074</td><td>0.2988792</td><td>-0.8181553</td><td>lemon</td></tr>\n",
       "</tbody>\n",
       "</table>\n"
      ],
      "text/latex": [
       "A tibble: 59 × 5\n",
       "\\begin{tabular}{lllll}\n",
       " mass & width & height & color\\_score & fruit\\_name\\\\\n",
       " <dbl> & <dbl> & <dbl> & <dbl> & <fct>\\\\\n",
       "\\hline\n",
       "\t 0.5249358 & 1.5850841 & -0.2889166 & -2.769820 & apple\\\\\n",
       "\t 0.3068287 & 1.0954508 & -0.6562889 & -2.249376 & apple\\\\\n",
       "\t 0.2341263 & 0.3610008 & -0.3623910 & -2.119265 & apple\\\\\n",
       "\t ⋮ & ⋮ & ⋮ & ⋮ & ⋮\\\\\n",
       "\t -0.8564094 & -1.4751241 & 0.2988792 & -0.4278225 & lemon\\\\\n",
       "\t -0.2020880 & -0.7406741 & 0.5927771 & -0.5579334 & lemon\\\\\n",
       "\t -0.8200582 & -1.2303074 & 0.2988792 & -0.8181553 & lemon\\\\\n",
       "\\end{tabular}\n"
      ],
      "text/markdown": [
       "\n",
       "A tibble: 59 × 5\n",
       "\n",
       "| mass &lt;dbl&gt; | width &lt;dbl&gt; | height &lt;dbl&gt; | color_score &lt;dbl&gt; | fruit_name &lt;fct&gt; |\n",
       "|---|---|---|---|---|\n",
       "| 0.5249358 | 1.5850841 | -0.2889166 | -2.769820 | apple |\n",
       "| 0.3068287 | 1.0954508 | -0.6562889 | -2.249376 | apple |\n",
       "| 0.2341263 | 0.3610008 | -0.3623910 | -2.119265 | apple |\n",
       "| ⋮ | ⋮ | ⋮ | ⋮ | ⋮ |\n",
       "| -0.8564094 | -1.4751241 | 0.2988792 | -0.4278225 | lemon |\n",
       "| -0.2020880 | -0.7406741 | 0.5927771 | -0.5579334 | lemon |\n",
       "| -0.8200582 | -1.2303074 | 0.2988792 | -0.8181553 | lemon |\n",
       "\n"
      ],
      "text/plain": [
       "   mass       width      height     color_score fruit_name\n",
       "1  0.5249358  1.5850841  -0.2889166 -2.769820   apple     \n",
       "2  0.3068287  1.0954508  -0.6562889 -2.249376   apple     \n",
       "3  0.2341263  0.3610008  -0.3623910 -2.119265   apple     \n",
       "⋮  ⋮          ⋮          ⋮          ⋮           ⋮         \n",
       "57 -0.8564094 -1.4751241 0.2988792  -0.4278225  lemon     \n",
       "58 -0.2020880 -0.7406741 0.5927771  -0.5579334  lemon     \n",
       "59 -0.8200582 -1.2303074 0.2988792  -0.8181553  lemon     "
      ]
     },
     "metadata": {},
     "output_type": "display_data"
    }
   ],
   "source": [
    "# Set the seed. Don't remove this!\n",
    "set.seed(9999) \n",
    "\n",
    "#... <- ...(fruit_name ~ .... + .... + .... + ...., data = ....) |>\n",
    "#                        ....(all_predictors()) |>\n",
    "#                        ....(all_predictors())\n",
    "\n",
    "#... <- fruit_data_recipe |>  \n",
    "#                            ....() |> \n",
    "#                            ....(fruit_data)\n",
    "\n",
    "\n",
    "fruit_data_recipe <- recipe(fruit_name ~ mass + width + height + color_score, data = fruit_data) |>\n",
    "    step_scale(all_predictors()) |>\n",
    "    step_center(all_predictors())\n",
    "\n",
    "fruit_data_scaled <- fruit_data_recipe |>\n",
    "        prep() |>\n",
    "        bake(fruit_data)\n",
    "fruit_data_scaled"
   ]
  },
  {
   "cell_type": "code",
   "execution_count": 20,
   "metadata": {
    "deletable": false,
    "editable": false,
    "nbgrader": {
     "cell_type": "code",
     "checksum": "5fbc3598af64c23b8e42071cdb236cf7",
     "grade": true,
     "grade_id": "cell-d47d0853560ef00b",
     "locked": true,
     "points": 1,
     "schema_version": 3,
     "solution": false
    }
   },
   "outputs": [
    {
     "name": "stdout",
     "output_type": "stream",
     "text": [
      "\u001b[32mTest passed\u001b[39m 🌈\n",
      "\u001b[32mTest passed\u001b[39m 😀\n",
      "\u001b[32mTest passed\u001b[39m 🥳\n",
      "\u001b[32mTest passed\u001b[39m 😸\n",
      "\u001b[32mTest passed\u001b[39m 🌈\n",
      "\u001b[32mTest passed\u001b[39m 😀\n",
      "\u001b[32mTest passed\u001b[39m 😸\n",
      "[1] \"Success!\"\n"
     ]
    }
   ],
   "source": [
    "test_1.5()"
   ]
  },
  {
   "cell_type": "markdown",
   "metadata": {
    "deletable": false,
    "editable": false,
    "nbgrader": {
     "cell_type": "markdown",
     "checksum": "9281822ddb9e6e2704a4a987286932f1",
     "grade": false,
     "grade_id": "cell-dceb095c855aeff4",
     "locked": true,
     "schema_version": 3,
     "solution": false
    }
   },
   "source": [
    "**Question 1.6**\n",
    "<br> {points: 1}\n",
    "\n",
    "Let's repeat **Question 1.2 and 1.3** with the scaled variables:\n",
    "\n",
    "- calculate the distance with the scaled mass and width variables between observations 1 and 2\n",
    "- calculate the distances with the scaled mass and width variables between observations 1 and 44 \n",
    "\n",
    "After you do this, think about how these distances compared to the distances you computed in **Question 1.2 and 1.3** for the same points.\n",
    "\n",
    "*Assign your answers to objects called `distance_2` and `distance_44` respectively.*"
   ]
  },
  {
   "cell_type": "code",
   "execution_count": 21,
   "metadata": {
    "deletable": false,
    "nbgrader": {
     "cell_type": "code",
     "checksum": "d6c927d524dc3ab13dd4abeb5bf8c49a",
     "grade": false,
     "grade_id": "cell-e70ccce2b005a539",
     "locked": false,
     "schema_version": 3,
     "solution": true
    }
   },
   "outputs": [
    {
     "data": {
      "text/plain": [
       "          1\n",
       "2 0.5360145"
      ]
     },
     "metadata": {},
     "output_type": "display_data"
    },
    {
     "data": {
      "text/plain": [
       "        1\n",
       "2 1.46935"
      ]
     },
     "metadata": {},
     "output_type": "display_data"
    }
   ],
   "source": [
    "distance_2 <- fruit_data_scaled |>\n",
    "        slice(1, 2) |>\n",
    "        select(mass, width) |>\n",
    "        dist()\n",
    "distance_44 <- fruit_data_scaled |>\n",
    "        slice(1, 44) |>\n",
    "        select(mass, width) |>\n",
    "        dist()\n",
    "distance_2\n",
    "distance_44"
   ]
  },
  {
   "cell_type": "code",
   "execution_count": 22,
   "metadata": {
    "deletable": false,
    "editable": false,
    "nbgrader": {
     "cell_type": "code",
     "checksum": "c0bdbd80ed5dfaf3269f901878b5e155",
     "grade": true,
     "grade_id": "cell-7c33c6c2fb375ea4",
     "locked": true,
     "points": 1,
     "schema_version": 3,
     "solution": false
    }
   },
   "outputs": [
    {
     "name": "stdout",
     "output_type": "stream",
     "text": [
      "\u001b[32mTest passed\u001b[39m 🥳\n",
      "\u001b[32mTest passed\u001b[39m 🎉\n",
      "\u001b[32mTest passed\u001b[39m 🎉\n",
      "\u001b[32mTest passed\u001b[39m 😸\n",
      "\u001b[32mTest passed\u001b[39m 😸\n",
      "\u001b[32mTest passed\u001b[39m 🌈\n",
      "[1] \"Success!\"\n"
     ]
    }
   ],
   "source": [
    "test_1.6()"
   ]
  },
  {
   "cell_type": "markdown",
   "metadata": {
    "deletable": false,
    "editable": false,
    "nbgrader": {
     "cell_type": "markdown",
     "checksum": "4b78631b3c21e273a1a7704605ded36a",
     "grade": false,
     "grade_id": "cell-309b3be84c7e4267",
     "locked": true,
     "schema_version": 3,
     "solution": false
    }
   },
   "source": [
    "**Question 1.7**\n",
    "<br> {points: 1}\n",
    "\n",
    "Make a scatterplot of scaled mass on the horizontal axis and scaled color score on the vertical axis. Color the points by fruit name. \n",
    "\n",
    "*Assign your plot to an object called `fruit_plot`. Make sure to do all the things to make an effective visualization.*"
   ]
  },
  {
   "cell_type": "code",
   "execution_count": 23,
   "metadata": {
    "deletable": false,
    "nbgrader": {
     "cell_type": "code",
     "checksum": "192bd23e4b5054fb35ed61ddbaa39cdb",
     "grade": false,
     "grade_id": "cell-7aea4aced8566c09",
     "locked": false,
     "schema_version": 3,
     "solution": true
    }
   },
   "outputs": [
    {
     "data": {
      "image/png": "[encoded data removed]",
      "text/plain": [
       "plot without title"
      ]
     },
     "metadata": {
      "image/png": {
       "height": 420,
       "width": 600
      }
     },
     "output_type": "display_data"
    }
   ],
   "source": [
    "fruit_plot <- fruit_data_scaled |>\n",
    "        ggplot(aes(x = mass, y = color_score, colour = fruit_name)) +\n",
    "            geom_point() +\n",
    "            labs(x = \"Scaled Mass (g)\", y = \"Scaled Colour Score\", colour = \"Fruit Name\") +\n",
    "            theme(text = element_text(size = 20))\n",
    "fruit_plot"
   ]
  },
  {
   "cell_type": "code",
   "execution_count": 24,
   "metadata": {
    "deletable": false,
    "editable": false,
    "nbgrader": {
     "cell_type": "code",
     "checksum": "2fb79c813514de6de4e28cc5ebcc659e",
     "grade": true,
     "grade_id": "cell-330397b4b46fdd07",
     "locked": true,
     "points": 1,
     "schema_version": 3,
     "solution": false
    }
   },
   "outputs": [
    {
     "name": "stdout",
     "output_type": "stream",
     "text": [
      "\u001b[32mTest passed\u001b[39m 🎊\n",
      "\u001b[32mTest passed\u001b[39m 🌈\n",
      "\u001b[32mTest passed\u001b[39m 🎊\n",
      "\u001b[32mTest passed\u001b[39m 🥇\n",
      "\u001b[32mTest passed\u001b[39m 🎉\n",
      "\u001b[32mTest passed\u001b[39m 🎉\n",
      "[1] \"Success!\"\n"
     ]
    }
   ],
   "source": [
    "test_1.7()"
   ]
  },
  {
   "cell_type": "markdown",
   "metadata": {
    "deletable": false,
    "editable": false,
    "nbgrader": {
     "cell_type": "markdown",
     "checksum": "f2f10081880f061cb06a6f61a8b6332e",
     "grade": false,
     "grade_id": "cell-af1aa89c7d87ff08",
     "locked": true,
     "schema_version": 3,
     "solution": false
    }
   },
   "source": [
    "**Question 1.8** \n",
    "<br> {points: 3}\n",
    "\n",
    "Suppose we have a new observation in the fruit dataset with scaled mass 0.5 and scaled color score 0.5.\n",
    "\n",
    "Just by looking at the scatterplot, how would you classify this observation using K-nearest neighbours if you use K = 3? Explain how you arrived at your answer."
   ]
  },
  {
   "cell_type": "markdown",
   "metadata": {
    "deletable": false,
    "nbgrader": {
     "cell_type": "markdown",
     "checksum": "270e7299b82619bf4a12b74622edb5bf",
     "grade": true,
     "grade_id": "cell-b48e4cbbaea68dab",
     "locked": false,
     "points": 3,
     "schema_version": 3,
     "solution": true,
     "task": false
    }
   },
   "source": [
    "By looking at the observation, I would classify the new observation as an orange. You can see that at the point (0.5, 0.5), the three closest points are all classified as oranges, therefore the point should also be an orange."
   ]
  },
  {
   "cell_type": "markdown",
   "metadata": {
    "deletable": false,
    "editable": false,
    "nbgrader": {
     "cell_type": "markdown",
     "checksum": "4f3e249daf6faad4f8338af35cb22bd3",
     "grade": false,
     "grade_id": "cell-d5bb3e47fd3d48af",
     "locked": true,
     "schema_version": 3,
     "solution": false
    }
   },
   "source": [
    "**Question 1.9**\n",
    "<br> {points: 1}\n",
    "\n",
    "Now, let's use the `tidymodels` package to predict `fruit_name` for another new observation. The new observation we are interested in has mass 150g and color score 0.73.\n",
    "\n",
    "First, create the K-nearest neighbour model specification. Specify we want $K=5$ neighbors, `set_engine` to be `\"kknn\"`, and we want to use the *straight-line distance*. Name this model specification as `knn_spec`.\n",
    "\n",
    "Then create a new recipe named `fruit_data_recipe_2` that centers and scales the predictors, but only uses `mass` and `color_score` as predictors.\n",
    "\n",
    "Combine this with your recipe from before in a `workflow`, and fit to the `fruit_data` dataset. \n",
    "\n",
    "Name the fitted model `fruit_fit`."
   ]
  },
  {
   "cell_type": "code",
   "execution_count": 25,
   "metadata": {
    "deletable": false,
    "nbgrader": {
     "cell_type": "code",
     "checksum": "1be2c35e09f62d1f625545b841cda346",
     "grade": false,
     "grade_id": "cell-d6a33c5ad9e20950",
     "locked": false,
     "schema_version": 3,
     "solution": true
    }
   },
   "outputs": [],
   "source": [
    "# Set the seed. Don't remove this!\n",
    "set.seed(9999) \n",
    "\n",
    "#... <- nearest_neighbor(weight_func = ..., neighbors = ...) |>\n",
    "#       ...(...) |>\n",
    "#       ...(...)\n",
    "\n",
    "#... <- recipe(... ~ ... + ..., data = fruit_data) |>\n",
    "#                        ...(...) |>\n",
    "#                        ...(...)\n",
    "\n",
    "#... <- ...() |>\n",
    "#          ...(...) |>\n",
    "#          ...(...) |>\n",
    "#          fit(data = ...)\n",
    "\n",
    "\n",
    "knn_spec <- nearest_neighbor(weight_func = \"rectangular\", neighbors = 5) |> \n",
    "    set_engine(\"kknn\") |> \n",
    "    set_mode(\"classification\")\n",
    "\n",
    "fruit_data_recipe_2 <- recipe(fruit_name~ mass + color_score, data = fruit_data) |> \n",
    "    step_scale(all_predictors()) |> \n",
    "    step_center(all_predictors())\n",
    "\n",
    "fruit_fit <- workflow() |> \n",
    "    add_recipe(fruit_data_recipe_2) |>\n",
    "    add_model(knn_spec) |>\n",
    "    fit(data = fruit_data)"
   ]
  },
  {
   "cell_type": "code",
   "execution_count": 26,
   "metadata": {
    "deletable": false,
    "editable": false,
    "nbgrader": {
     "cell_type": "code",
     "checksum": "2fbad0d69dd6c6b355effab0713d8ac9",
     "grade": true,
     "grade_id": "cell-5ccfe637ff9751ec",
     "locked": true,
     "points": 1,
     "schema_version": 3,
     "solution": false
    }
   },
   "outputs": [
    {
     "name": "stdout",
     "output_type": "stream",
     "text": [
      "\u001b[32mTest passed\u001b[39m 🌈\n",
      "\u001b[32mTest passed\u001b[39m 😀\n",
      "\u001b[32mTest passed\u001b[39m 🥳\n",
      "\u001b[32mTest passed\u001b[39m 😸\n",
      "\u001b[32mTest passed\u001b[39m 🌈\n",
      "\u001b[32mTest passed\u001b[39m 😀\n",
      "\u001b[32mTest passed\u001b[39m 😸\n",
      "\u001b[32mTest passed\u001b[39m 🥳\n",
      "\u001b[32mTest passed\u001b[39m 🎉\n",
      "\u001b[32mTest passed\u001b[39m 🎉\n",
      "[1] \"Success!\"\n"
     ]
    }
   ],
   "source": [
    "test_1.9()"
   ]
  },
  {
   "cell_type": "markdown",
   "metadata": {
    "deletable": false,
    "editable": false,
    "nbgrader": {
     "cell_type": "markdown",
     "checksum": "e69cc0eb536b14cf8c978ca5666a628a",
     "grade": false,
     "grade_id": "cell-c0cf02e39693f018",
     "locked": true,
     "schema_version": 3,
     "solution": false
    }
   },
   "source": [
    "**Question 1.10**\n",
    "<br> {points: 1}\n",
    "\n",
    "Create a new tibble where `mass = 150` and `color_score = 0.73` and call it `new_fruit`. Then, pass `fruit_fit` and `new_fruit` to the `predict` function to predict the class for the new fruit observation. Save your prediction to an object named `fruit_predicted`."
   ]
  },
  {
   "cell_type": "code",
   "execution_count": 27,
   "metadata": {
    "deletable": false,
    "nbgrader": {
     "cell_type": "code",
     "checksum": "f366df3762326ff1b1c9b39b37489321",
     "grade": false,
     "grade_id": "cell-1a6bd7bd278f3b12",
     "locked": false,
     "schema_version": 3,
     "solution": true
    }
   },
   "outputs": [
    {
     "data": {
      "text/html": [
       "<table class=\"dataframe\">\n",
       "<caption>A tibble: 1 × 1</caption>\n",
       "<thead>\n",
       "\t<tr><th scope=col>.pred_class</th></tr>\n",
       "\t<tr><th scope=col>&lt;fct&gt;</th></tr>\n",
       "</thead>\n",
       "<tbody>\n",
       "\t<tr><td>orange</td></tr>\n",
       "</tbody>\n",
       "</table>\n"
      ],
      "text/latex": [
       "A tibble: 1 × 1\n",
       "\\begin{tabular}{l}\n",
       " .pred\\_class\\\\\n",
       " <fct>\\\\\n",
       "\\hline\n",
       "\t orange\\\\\n",
       "\\end{tabular}\n"
      ],
      "text/markdown": [
       "\n",
       "A tibble: 1 × 1\n",
       "\n",
       "| .pred_class &lt;fct&gt; |\n",
       "|---|\n",
       "| orange |\n",
       "\n"
      ],
      "text/plain": [
       "  .pred_class\n",
       "1 orange     "
      ]
     },
     "metadata": {},
     "output_type": "display_data"
    }
   ],
   "source": [
    "new_fruit <- tibble(mass = c(150), color_score = c(0.73))\n",
    "\n",
    "fruit_predicted <- predict(fruit_fit, new_fruit)\n",
    "fruit_predicted"
   ]
  },
  {
   "cell_type": "code",
   "execution_count": 28,
   "metadata": {
    "deletable": false,
    "editable": false,
    "nbgrader": {
     "cell_type": "code",
     "checksum": "8001a828a49dc609d3a6292ca673ded8",
     "grade": true,
     "grade_id": "cell-3a2d3d85dc181b83",
     "locked": true,
     "points": 1,
     "schema_version": 3,
     "solution": false
    }
   },
   "outputs": [
    {
     "name": "stdout",
     "output_type": "stream",
     "text": [
      "\u001b[32mTest passed\u001b[39m 😸\n",
      "\u001b[32mTest passed\u001b[39m 😸\n",
      "\u001b[32mTest passed\u001b[39m 🌈\n",
      "[1] \"Success!\"\n"
     ]
    }
   ],
   "source": [
    "test_1.10()"
   ]
  },
  {
   "cell_type": "markdown",
   "metadata": {
    "deletable": false,
    "editable": false,
    "nbgrader": {
     "cell_type": "markdown",
     "checksum": "d7067187d349cfb90cbb12bd4a44c04f",
     "grade": false,
     "grade_id": "cell-f967fbfa3edd4e40",
     "locked": true,
     "schema_version": 3,
     "solution": false
    }
   },
   "source": [
    "**Question 1.11** \n",
    "<br> {points: 3}\n",
    "\n",
    "Revisiting `fruit_plot` and considering the prediction given by K-nearest neighbours above, do you think the classification model did a \"good\" job predicting? Could you have done/do better? Given what we know this far in the course, what might we want to do to help with tricky prediction cases such as this?\n",
    "\n",
    "*You can use the code below to visualize the observation whose label we just tried to predict.*"
   ]
  },
  {
   "cell_type": "code",
   "execution_count": 29,
   "metadata": {
    "deletable": false,
    "editable": false,
    "nbgrader": {
     "cell_type": "code",
     "checksum": "f6b0070bd9a2afc6e1d5f12ee4584f4d",
     "grade": false,
     "grade_id": "cell-1569bb952f7f0597",
     "locked": true,
     "schema_version": 3,
     "solution": false,
     "task": false
    }
   },
   "outputs": [
    {
     "data": {
      "image/png": "[encoded data removed]",
      "text/plain": [
       "plot without title"
      ]
     },
     "metadata": {
      "image/png": {
       "height": 420,
       "width": 600
      }
     },
     "output_type": "display_data"
    }
   ],
   "source": [
    "options(repr.plot.width = 10, repr.plot.height = 7) # you can change the plot size \n",
    "\n",
    "fruit_plot + \n",
    "    geom_point(aes(x = -0.3, y = -0.4), color = \"black\", size = 4)"
   ]
  },
  {
   "cell_type": "markdown",
   "metadata": {
    "deletable": false,
    "nbgrader": {
     "cell_type": "markdown",
     "checksum": "2be2062f7f7536947b1fa505d183e422",
     "grade": true,
     "grade_id": "cell-5a6f5622fdbb48fe",
     "locked": false,
     "points": 3,
     "schema_version": 3,
     "solution": true,
     "task": false
    }
   },
   "source": [
    "I believe the classification model did a pretty good job of predicting the fruit name. It seems that the 5 nearest neighbours of the new data point are mostly oranges, however the point seems to fit better in the \"lemon\" category. By using only mass and colour score as predictors, it doesn't give a very good idea of what the fruit actually looks like. The data point could be describing a lemon or a very yellow orange. If we were to use other predictors, such as the width and height, we would be able to get a better prediction since lemons and oranges have very different widths and heights. In a tricky case such as this, I would just add more predictors to the recipe."
   ]
  },
  {
   "cell_type": "markdown",
   "metadata": {
    "deletable": false,
    "editable": false,
    "nbgrader": {
     "cell_type": "markdown",
     "checksum": "d7de8a22a91186ccccd97bba6e2bcff7",
     "grade": false,
     "grade_id": "cell-cc5156a4318b7185",
     "locked": true,
     "schema_version": 3,
     "solution": false
    }
   },
   "source": [
    "**Question 1.12**\n",
    "<br> {points: 1}\n",
    "\n",
    "Now do K-nearest neighbours classification again with the same data set, same K, and same new observation. However, this time, let's use **all the columns in the dataset as predictors (except for the categorical `fruit_label` and `fruit_subtype` variables).**\n",
    "\n",
    "We have provided the `new_fruit_all` dataframe below, which encodes the predictors for our new observation. Your job is to use K-nearest neighbours to predict the class of this point. You can reuse the model specification you created earlier. \n",
    "\n",
    "*Assign your answer (the output of `predict`) to an object called `fruit_all_predicted`.*"
   ]
  },
  {
   "cell_type": "code",
   "execution_count": 30,
   "metadata": {
    "deletable": false,
    "nbgrader": {
     "cell_type": "code",
     "checksum": "8d0d86716e9ddc1be90a363b17558fc7",
     "grade": false,
     "grade_id": "cell-11dfd75840c12acf",
     "locked": false,
     "schema_version": 3,
     "solution": true,
     "task": false
    }
   },
   "outputs": [
    {
     "data": {
      "text/html": [
       "<table class=\"dataframe\">\n",
       "<caption>A tibble: 1 × 1</caption>\n",
       "<thead>\n",
       "\t<tr><th scope=col>.pred_class</th></tr>\n",
       "\t<tr><th scope=col>&lt;fct&gt;</th></tr>\n",
       "</thead>\n",
       "<tbody>\n",
       "\t<tr><td>lemon</td></tr>\n",
       "</tbody>\n",
       "</table>\n"
      ],
      "text/latex": [
       "A tibble: 1 × 1\n",
       "\\begin{tabular}{l}\n",
       " .pred\\_class\\\\\n",
       " <fct>\\\\\n",
       "\\hline\n",
       "\t lemon\\\\\n",
       "\\end{tabular}\n"
      ],
      "text/markdown": [
       "\n",
       "A tibble: 1 × 1\n",
       "\n",
       "| .pred_class &lt;fct&gt; |\n",
       "|---|\n",
       "| lemon |\n",
       "\n"
      ],
      "text/plain": [
       "  .pred_class\n",
       "1 lemon      "
      ]
     },
     "metadata": {},
     "output_type": "display_data"
    }
   ],
   "source": [
    "#This is the new observation to predict class label for\n",
    "new_fruit_all <- tibble(mass = 150, \n",
    "                            color_score = 0.73, \n",
    "                            height = 10,\n",
    "                            width = 6)\n",
    "\n",
    "\n",
    "# no hints this time!\n",
    "\n",
    "knn_spec <- nearest_neighbor(weight_func = \"rectangular\", neighbors = 5) |> \n",
    "    set_engine(\"kknn\") |> \n",
    "    set_mode(\"classification\")\n",
    "\n",
    "\n",
    "fruit_all_recipe <- recipe(fruit_name~ mass + width + height + color_score, data = fruit_data) |> \n",
    "    step_scale(all_predictors()) |> \n",
    "    step_center(all_predictors())\n",
    "\n",
    "fruit_fit_all <- workflow() |> \n",
    "    add_recipe(fruit_all_recipe) |>\n",
    "    add_model(knn_spec) |>\n",
    "    fit(data = fruit_data)\n",
    "\n",
    "fruit_all_predicted <- predict(fruit_fit_all, new_fruit_all)\n",
    "fruit_all_predicted"
   ]
  },
  {
   "cell_type": "code",
   "execution_count": 31,
   "metadata": {
    "deletable": false,
    "editable": false,
    "nbgrader": {
     "cell_type": "code",
     "checksum": "95d7ef6881fb26e997a96df0d94ff9e0",
     "grade": true,
     "grade_id": "cell-f4cbe01336a26636",
     "locked": true,
     "points": 1,
     "schema_version": 3,
     "solution": false,
     "task": false
    }
   },
   "outputs": [
    {
     "name": "stdout",
     "output_type": "stream",
     "text": [
      "\u001b[32mTest passed\u001b[39m 😸\n",
      "\u001b[32mTest passed\u001b[39m 😸\n",
      "[1] \"Success!\"\n"
     ]
    }
   ],
   "source": [
    "test_1.12()"
   ]
  },
  {
   "cell_type": "markdown",
   "metadata": {
    "deletable": false,
    "editable": false,
    "nbgrader": {
     "cell_type": "markdown",
     "checksum": "f91896964dd01c73a585e32a18158abc",
     "grade": false,
     "grade_id": "cell-ed80bda97a114689",
     "locked": true,
     "schema_version": 3,
     "solution": false
    }
   },
   "source": [
    "**Question 1.13** \n",
    "<br> {points: 3}\n",
    "\n",
    "Did your second classification on the same data set with the same K change the prediction? If so, why do you think this happened?"
   ]
  },
  {
   "cell_type": "markdown",
   "metadata": {
    "deletable": false,
    "nbgrader": {
     "cell_type": "markdown",
     "checksum": "78516303d9fd03bc863115aacaaa8ab0",
     "grade": true,
     "grade_id": "cell-8d91418ef5057475",
     "locked": false,
     "points": 3,
     "schema_version": 3,
     "solution": true,
     "task": false
    }
   },
   "source": [
    "Yes, the second classification changed the prediction. This is because the classification is now based on more variables, so it is more precise and accurate."
   ]
  },
  {
   "cell_type": "markdown",
   "metadata": {
    "deletable": false,
    "editable": false,
    "nbgrader": {
     "cell_type": "markdown",
     "checksum": "792e065e4e2a5e26b4d6ddffaa893feb",
     "grade": false,
     "grade_id": "cell-da8d59e0f1753437",
     "locked": true,
     "schema_version": 3,
     "solution": false,
     "task": false
    }
   },
   "source": [
    "## 2. Wheat Seed Dataset\n",
    "\n",
    "X-ray images can be used to analyze and sort seeds. In [this data set](https://archive.ics.uci.edu/ml/datasets/seeds), we have 7 measurements from x-ray images from 3 varieties of wheat seeds (Kama, Rosa and Canadian). "
   ]
  },
  {
   "cell_type": "markdown",
   "metadata": {
    "deletable": false,
    "editable": false,
    "nbgrader": {
     "cell_type": "markdown",
     "checksum": "335d3269827342a5d7b95b28c043610c",
     "grade": false,
     "grade_id": "cell-8efa44bbbd0be10c",
     "locked": true,
     "schema_version": 3,
     "solution": false
    }
   },
   "source": [
    "**Question 2.0**\n",
    "<br> {points: 3}\n",
    "\n",
    "Let's use `tidymodels` to perform K-nearest neighbours to classify the wheat variety of seeds. The data set is available here: https://archive.ics.uci.edu/ml/machine-learning-databases/00236/seeds_dataset.txt. **Download the data set directly from this URL using the `read_table2()` function**, which is helpful when the columns are separated by one or more white spaces.\n",
    "\n",
    "The seven measurements were taken below for each wheat kernel:\n",
    "1. area A, \n",
    "2. perimeter P, \n",
    "3. compactness C = 4*pi*A/P^2, \n",
    "4. length of kernel, \n",
    "5. width of kernel, \n",
    "6. asymmetry coefficient \n",
    "7. length of kernel groove. \n",
    "\n",
    "The last column in the data set is the variety label. The mapping for the numbers to varieties is listed below:\n",
    "\n",
    "- 1 == Kama\n",
    "- 2 == Rosa\n",
    "- 3 == Canadian\n",
    "\n",
    "Use `tidymodels` with this data to perform K-nearest neighbours to classify the wheat variety of a new seed we measure with the given observed measurements (from an x-ray image) listed above. Specify that we want $K = 5$ neighbors to perform the classification. Don't forget to perform any necessary preprocessing!\n",
    "\n",
    "*Assign your answer to an object called `seed_predict`.*\n",
    "\n",
    "Hints: \n",
    "- `colnames()` can be used to specify the column names of a data frame.\n",
    "- the wheat variety column appears numerical, but you want it to be treated as categorical for this analysis, thus `as_factor()` might be helpful."
   ]
  },
  {
   "cell_type": "code",
   "execution_count": 32,
   "metadata": {
    "deletable": false,
    "nbgrader": {
     "cell_type": "code",
     "checksum": "d7c81a01e8e9ac1b2365009e3753790d",
     "grade": true,
     "grade_id": "cell-3c4ba3c5bf6b72e0",
     "locked": false,
     "points": 3,
     "schema_version": 3,
     "solution": true,
     "task": false
    }
   },
   "outputs": [
    {
     "name": "stderr",
     "output_type": "stream",
     "text": [
      "\n",
      "\u001b[36m──\u001b[39m \u001b[1mColumn specification\u001b[22m \u001b[36m────────────────────────────────────────────────────────\u001b[39m\n",
      "cols(\n",
      "  X1 = \u001b[32mcol_double()\u001b[39m,\n",
      "  X2 = \u001b[32mcol_double()\u001b[39m,\n",
      "  X3 = \u001b[32mcol_double()\u001b[39m,\n",
      "  X4 = \u001b[32mcol_double()\u001b[39m,\n",
      "  X5 = \u001b[32mcol_double()\u001b[39m,\n",
      "  X6 = \u001b[32mcol_double()\u001b[39m,\n",
      "  X7 = \u001b[32mcol_double()\u001b[39m,\n",
      "  X8 = \u001b[32mcol_double()\u001b[39m\n",
      ")\n",
      "\n"
     ]
    },
    {
     "data": {
      "text/html": [
       "<table class=\"dataframe\">\n",
       "<caption>A tibble: 1 × 1</caption>\n",
       "<thead>\n",
       "\t<tr><th scope=col>.pred_class</th></tr>\n",
       "\t<tr><th scope=col>&lt;fct&gt;</th></tr>\n",
       "</thead>\n",
       "<tbody>\n",
       "\t<tr><td>3</td></tr>\n",
       "</tbody>\n",
       "</table>\n"
      ],
      "text/latex": [
       "A tibble: 1 × 1\n",
       "\\begin{tabular}{l}\n",
       " .pred\\_class\\\\\n",
       " <fct>\\\\\n",
       "\\hline\n",
       "\t 3\\\\\n",
       "\\end{tabular}\n"
      ],
      "text/markdown": [
       "\n",
       "A tibble: 1 × 1\n",
       "\n",
       "| .pred_class &lt;fct&gt; |\n",
       "|---|\n",
       "| 3 |\n",
       "\n"
      ],
      "text/plain": [
       "  .pred_class\n",
       "1 3          "
      ]
     },
     "metadata": {},
     "output_type": "display_data"
    }
   ],
   "source": [
    "# Set the seed. Don't remove this!\n",
    "set.seed(9999) \n",
    "\n",
    "#This is the new observation to predict\n",
    "new_seed <- tibble(area = 12.1,\n",
    "                        perimeter = 14.2,\n",
    "                        compactness = 0.9,\n",
    "                        length = 4.9,\n",
    "                        width = 2.8,\n",
    "                        asymmetry_coefficient = 3.0, \n",
    "                        groove_length = 5.1)\n",
    "\n",
    "seed_data <- read_table(\"https://archive.ics.uci.edu/ml/machine-learning-databases/00236/seeds_dataset.txt\",\n",
    "                        col_names = FALSE) |>\n",
    "            rename(area = X1, perimeter = X2, compactness = X3, length = X4,\n",
    "                   width = X5, asymmetry_coefficient = X6, groove_length = X7, variety = X8) |>\n",
    "            mutate(variety = as.factor(variety))\n",
    "#seed_data\n",
    "knn_spec <- nearest_neighbor(weight_func = \"rectangular\", neighbors = 5) |> \n",
    "    set_engine(\"kknn\") |> \n",
    "    set_mode(\"classification\")\n",
    "\n",
    "seed_recipe <- recipe(variety~., data = seed_data) |> \n",
    "    step_scale(all_predictors()) |> \n",
    "    step_center(all_predictors())\n",
    "\n",
    "#seed_data_scaled <- seed_recipe |>\n",
    "       # prep() |>\n",
    "        #bake(seed_data)\n",
    "#seed_data_scaled\n",
    "\n",
    "seed_fit <- workflow() |> \n",
    "    add_recipe(seed_recipe) |>\n",
    "    add_model(knn_spec) |>\n",
    "    fit(data = seed_data)\n",
    "\n",
    "seed_predict <- predict(seed_fit, new_seed)\n",
    "seed_predict"
   ]
  },
  {
   "cell_type": "markdown",
   "metadata": {
    "deletable": false,
    "editable": false,
    "nbgrader": {
     "cell_type": "markdown",
     "checksum": "5700aba5a9404ef5dbce1024fd698be7",
     "grade": false,
     "grade_id": "cell-8edaf785b47c00f9",
     "locked": true,
     "schema_version": 3,
     "solution": false
    }
   },
   "source": [
    "**Question 2.1** Multiple Choice:\n",
    "<br> {points: 1}\n",
    "\n",
    "What is classification of the `new_seed` observation?\n",
    "\n",
    "A. Kama\n",
    "\n",
    "B. Rosa\n",
    "\n",
    "C. Canadian\n",
    "\n",
    "*Assign your answer to an object called `answer2.1`. Make sure your answer is in uppercase and is surrounded by quotation marks (e.g. `\"F\"`).*\n"
   ]
  },
  {
   "cell_type": "code",
   "execution_count": 33,
   "metadata": {
    "deletable": false,
    "nbgrader": {
     "cell_type": "code",
     "checksum": "6e65c32a56e75da5956304b017950a6d",
     "grade": false,
     "grade_id": "cell-fb431a5154f21535",
     "locked": false,
     "schema_version": 3,
     "solution": true,
     "task": false
    }
   },
   "outputs": [],
   "source": [
    "answer2.1 <- \"C\""
   ]
  },
  {
   "cell_type": "code",
   "execution_count": 34,
   "metadata": {
    "deletable": false,
    "editable": false,
    "nbgrader": {
     "cell_type": "code",
     "checksum": "2d00c214ea10cfca4aa4572f746dabb9",
     "grade": true,
     "grade_id": "cell-6399b150c5034cd3",
     "locked": true,
     "points": 1,
     "schema_version": 3,
     "solution": false,
     "task": false
    }
   },
   "outputs": [
    {
     "name": "stdout",
     "output_type": "stream",
     "text": [
      "\u001b[32mTest passed\u001b[39m 🌈\n",
      "\u001b[32mTest passed\u001b[39m 😀\n",
      "[1] \"Success!\"\n"
     ]
    }
   ],
   "source": [
    "test_2.1()"
   ]
  },
  {
   "cell_type": "code",
   "execution_count": 35,
   "metadata": {
    "deletable": false,
    "editable": false,
    "nbgrader": {
     "cell_type": "code",
     "checksum": "41014ac7b6877712d6a60416fdfa3710",
     "grade": false,
     "grade_id": "cell-5962848718473e26",
     "locked": true,
     "schema_version": 3,
     "solution": false,
     "task": false
    }
   },
   "outputs": [],
   "source": [
    "source(\"cleanup.R\")"
   ]
  }
 ],
 "metadata": {
  "kernelspec": {
   "display_name": "R",
   "language": "R",
   "name": "ir"
  },
  "language_info": {
   "codemirror_mode": "r",
   "file_extension": ".r",
   "mimetype": "text/x-r-source",
   "name": "R",
   "pygments_lexer": "r",
   "version": "4.1.3"
  }
 },
 "nbformat": 4,
 "nbformat_minor": 4
}
